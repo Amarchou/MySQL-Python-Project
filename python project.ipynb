{
 "cells": [
  {
   "cell_type": "code",
   "execution_count": 1,
   "id": "5f7ebdab-4ef5-4658-a66a-45f03b040397",
   "metadata": {},
   "outputs": [],
   "source": [
    "import pandas as pd\n",
    "import matplotlib as plt\n",
    "import seaborn as sn"
   ]
  },
  {
   "cell_type": "code",
   "execution_count": 2,
   "id": "05b4569b-b5d1-4b0f-9a44-945b0d496c2e",
   "metadata": {},
   "outputs": [
    {
     "name": "stdout",
     "output_type": "stream",
     "text": [
      "Requirement already satisfied: pymysql in c:\\users\\amar\\anaconda3\\lib\\site-packages (1.1.1)\n",
      "Note: you may need to restart the kernel to use updated packages.\n"
     ]
    }
   ],
   "source": [
    "pip install pymysql"
   ]
  },
  {
   "cell_type": "code",
   "execution_count": 3,
   "id": "4371786f-5d37-4924-aa07-207298d187d1",
   "metadata": {},
   "outputs": [],
   "source": [
    "import pymysql"
   ]
  },
  {
   "cell_type": "code",
   "execution_count": 4,
   "id": "2ceea0e8-60d2-4aca-8f8e-aef9a9cc85ec",
   "metadata": {},
   "outputs": [
    {
     "name": "stdout",
     "output_type": "stream",
     "text": [
      "Requirement already satisfied: mysql-connector-python in c:\\users\\amar\\anaconda3\\lib\\site-packages (9.1.0)\n",
      "Note: you may need to restart the kernel to use updated packages.\n"
     ]
    }
   ],
   "source": [
    "pip install mysql-connector-python"
   ]
  },
  {
   "cell_type": "code",
   "execution_count": 5,
   "id": "87df4e37-4e2d-410d-8992-287aa15e6d64",
   "metadata": {},
   "outputs": [],
   "source": [
    "import mysql.connector"
   ]
  },
  {
   "cell_type": "code",
   "execution_count": 7,
   "id": "c3752fbb-43b5-4d5c-9ca2-f5ef0e3a7b29",
   "metadata": {},
   "outputs": [],
   "source": [
    "conn = pymysql.connect(\n",
    "    host = \"localhost\",\n",
    "    user = \"root\",\n",
    "    password = \"amar\",\n",
    "    database = \"zara\"\n",
    "    \n",
    ")"
   ]
  },
  {
   "cell_type": "code",
   "execution_count": 74,
   "id": "0f9f1603-0e08-4232-a35d-32746b9fc10f",
   "metadata": {},
   "outputs": [],
   "source": [
    "query = 'select * from clothes'"
   ]
  },
  {
   "cell_type": "code",
   "execution_count": 86,
   "id": "744f716e-bf7d-4be2-8f14-dd2e1cc4c8cb",
   "metadata": {},
   "outputs": [
    {
     "name": "stderr",
     "output_type": "stream",
     "text": [
      "C:\\Users\\AMAR\\AppData\\Local\\Temp\\ipykernel_22884\\4223859399.py:1: UserWarning: pandas only supports SQLAlchemy connectable (engine/connection) or database string URI or sqlite3 DBAPI2 connection. Other DBAPI2 objects are not tested. Please consider using SQLAlchemy.\n",
      "  data = pd.read_sql(query,conn)\n"
     ]
    },
    {
     "data": {
      "text/html": [
       "<div>\n",
       "<style scoped>\n",
       "    .dataframe tbody tr th:only-of-type {\n",
       "        vertical-align: middle;\n",
       "    }\n",
       "\n",
       "    .dataframe tbody tr th {\n",
       "        vertical-align: top;\n",
       "    }\n",
       "\n",
       "    .dataframe thead th {\n",
       "        text-align: right;\n",
       "    }\n",
       "</style>\n",
       "<table border=\"1\" class=\"dataframe\">\n",
       "  <thead>\n",
       "    <tr style=\"text-align: right;\">\n",
       "      <th></th>\n",
       "      <th>Product ID</th>\n",
       "      <th>Product Position</th>\n",
       "      <th>Promotion</th>\n",
       "      <th>Product Category</th>\n",
       "      <th>Seasonal</th>\n",
       "      <th>Sales Volume</th>\n",
       "      <th>brand</th>\n",
       "      <th>url</th>\n",
       "      <th>sku</th>\n",
       "      <th>name</th>\n",
       "      <th>description</th>\n",
       "      <th>price</th>\n",
       "      <th>currency</th>\n",
       "      <th>scraped_at</th>\n",
       "      <th>terms</th>\n",
       "      <th>section</th>\n",
       "    </tr>\n",
       "  </thead>\n",
       "  <tbody>\n",
       "    <tr>\n",
       "      <th>0</th>\n",
       "      <td>188771</td>\n",
       "      <td>Aisle</td>\n",
       "      <td>No</td>\n",
       "      <td>Clothing</td>\n",
       "      <td>No</td>\n",
       "      <td>654</td>\n",
       "      <td>Zara</td>\n",
       "      <td>https://www.zara.com/us/en/tuxedo-jacket-p0889...</td>\n",
       "      <td>324052738-800-46</td>\n",
       "      <td>TUXEDO JACKET</td>\n",
       "      <td>Straight fit blazer. Pointed lapel collar and ...</td>\n",
       "      <td>169.0</td>\n",
       "      <td>USD</td>\n",
       "      <td>2024-02-19T08:50:06.590930</td>\n",
       "      <td>jackets</td>\n",
       "      <td>MAN</td>\n",
       "    </tr>\n",
       "    <tr>\n",
       "      <th>1</th>\n",
       "      <td>180176</td>\n",
       "      <td>End-cap</td>\n",
       "      <td>Yes</td>\n",
       "      <td>Clothing</td>\n",
       "      <td>Yes</td>\n",
       "      <td>2220</td>\n",
       "      <td>Zara</td>\n",
       "      <td>https://www.zara.com/us/en/slim-fit-suit-jacke...</td>\n",
       "      <td>335342680-800-44</td>\n",
       "      <td>SLIM FIT SUIT JACKET</td>\n",
       "      <td>Slim fit jacket. Notched lapel collar. Long sl...</td>\n",
       "      <td>129.0</td>\n",
       "      <td>USD</td>\n",
       "      <td>2024-02-19T08:50:07.301419</td>\n",
       "      <td>jackets</td>\n",
       "      <td>MAN</td>\n",
       "    </tr>\n",
       "    <tr>\n",
       "      <th>2</th>\n",
       "      <td>112917</td>\n",
       "      <td>Aisle</td>\n",
       "      <td>Yes</td>\n",
       "      <td>Clothing</td>\n",
       "      <td>Yes</td>\n",
       "      <td>1568</td>\n",
       "      <td>Zara</td>\n",
       "      <td>https://www.zara.com/us/en/stretch-suit-jacket...</td>\n",
       "      <td>328303236-420-44</td>\n",
       "      <td>STRETCH SUIT JACKET</td>\n",
       "      <td>Slim fit jacket made of viscose blend fabric. ...</td>\n",
       "      <td>129.0</td>\n",
       "      <td>USD</td>\n",
       "      <td>2024-02-19T08:50:07.882922</td>\n",
       "      <td>jackets</td>\n",
       "      <td>MAN</td>\n",
       "    </tr>\n",
       "    <tr>\n",
       "      <th>3</th>\n",
       "      <td>192936</td>\n",
       "      <td>End-cap</td>\n",
       "      <td>No</td>\n",
       "      <td>Clothing</td>\n",
       "      <td>Yes</td>\n",
       "      <td>2942</td>\n",
       "      <td>Zara</td>\n",
       "      <td>https://www.zara.com/us/en/double-faced-jacket...</td>\n",
       "      <td>312368260-800-2</td>\n",
       "      <td>DOUBLE FACED JACKET</td>\n",
       "      <td>Jacket made of faux leather faux shearling wit...</td>\n",
       "      <td>139.0</td>\n",
       "      <td>USD</td>\n",
       "      <td>2024-02-19T08:50:08.453847</td>\n",
       "      <td>jackets</td>\n",
       "      <td>MAN</td>\n",
       "    </tr>\n",
       "    <tr>\n",
       "      <th>4</th>\n",
       "      <td>182157</td>\n",
       "      <td>Aisle</td>\n",
       "      <td>No</td>\n",
       "      <td>Clothing</td>\n",
       "      <td>No</td>\n",
       "      <td>2421</td>\n",
       "      <td>Zara</td>\n",
       "      <td>https://www.zara.com/us/en/suit-jacket-in-100-...</td>\n",
       "      <td>322972485-431-46</td>\n",
       "      <td>SUIT JACKET IN 100% LINEN</td>\n",
       "      <td>Straight fit blazer made of linen. Notched lap...</td>\n",
       "      <td>159.0</td>\n",
       "      <td>USD</td>\n",
       "      <td>2024-02-19T08:50:10.200777</td>\n",
       "      <td>jackets</td>\n",
       "      <td>MAN</td>\n",
       "    </tr>\n",
       "    <tr>\n",
       "      <th>5</th>\n",
       "      <td>141861</td>\n",
       "      <td>Aisle</td>\n",
       "      <td>Yes</td>\n",
       "      <td>Clothing</td>\n",
       "      <td>Yes</td>\n",
       "      <td>1916</td>\n",
       "      <td>Zara</td>\n",
       "      <td>https://www.zara.com/us/en/100-wool-suit-jacke...</td>\n",
       "      <td>313854165-401-46</td>\n",
       "      <td>100% WOOL SUIT JACKET</td>\n",
       "      <td>Jacket made of Italian wool. Pointed lapel col...</td>\n",
       "      <td>169.0</td>\n",
       "      <td>USD</td>\n",
       "      <td>2024-02-19T08:50:10.880741</td>\n",
       "      <td>jackets</td>\n",
       "      <td>MAN</td>\n",
       "    </tr>\n",
       "    <tr>\n",
       "      <th>6</th>\n",
       "      <td>137121</td>\n",
       "      <td>Aisle</td>\n",
       "      <td>No</td>\n",
       "      <td>Clothing</td>\n",
       "      <td>Yes</td>\n",
       "      <td>656</td>\n",
       "      <td>Zara</td>\n",
       "      <td>https://www.zara.com/us/en/100-feather-fill-pu...</td>\n",
       "      <td>312372602-800-2</td>\n",
       "      <td>100% FEATHER FILL PUFFER JACKET</td>\n",
       "      <td>Puffer jacket made of shiny finish technical f...</td>\n",
       "      <td>169.0</td>\n",
       "      <td>USD</td>\n",
       "      <td>2024-02-19T08:50:11.380061</td>\n",
       "      <td>jackets</td>\n",
       "      <td>MAN</td>\n",
       "    </tr>\n",
       "    <tr>\n",
       "      <th>7</th>\n",
       "      <td>113143</td>\n",
       "      <td>Aisle</td>\n",
       "      <td>Yes</td>\n",
       "      <td>Clothing</td>\n",
       "      <td>Yes</td>\n",
       "      <td>2663</td>\n",
       "      <td>Zara</td>\n",
       "      <td>https://www.zara.com/us/en/herringbone-texture...</td>\n",
       "      <td>316207900-710-2</td>\n",
       "      <td>HERRINGBONE TEXTURED JACKET</td>\n",
       "      <td>Jacket made of wool blend fabric. Lapel collar...</td>\n",
       "      <td>129.0</td>\n",
       "      <td>USD</td>\n",
       "      <td>2024-02-19T08:50:12.011296</td>\n",
       "      <td>jackets</td>\n",
       "      <td>MAN</td>\n",
       "    </tr>\n",
       "    <tr>\n",
       "      <th>8</th>\n",
       "      <td>140028</td>\n",
       "      <td>Aisle</td>\n",
       "      <td>Yes</td>\n",
       "      <td>Clothing</td>\n",
       "      <td>Yes</td>\n",
       "      <td>1260</td>\n",
       "      <td>Zara</td>\n",
       "      <td>https://www.zara.com/us/en/oversized-cropped-j...</td>\n",
       "      <td>329186122-800-2</td>\n",
       "      <td>OVERSIZED CROPPED JACKET LIMITED EDITION</td>\n",
       "      <td>Oversized cropped jacket. Notched lapel collar...</td>\n",
       "      <td>159.0</td>\n",
       "      <td>USD</td>\n",
       "      <td>2024-02-19T08:50:12.510507</td>\n",
       "      <td>jackets</td>\n",
       "      <td>MAN</td>\n",
       "    </tr>\n",
       "    <tr>\n",
       "      <th>9</th>\n",
       "      <td>134693</td>\n",
       "      <td>Aisle</td>\n",
       "      <td>Yes</td>\n",
       "      <td>Clothing</td>\n",
       "      <td>No</td>\n",
       "      <td>2124</td>\n",
       "      <td>Zara</td>\n",
       "      <td>https://www.zara.com/us/en/leather-biker-jacke...</td>\n",
       "      <td>311297791-800-2</td>\n",
       "      <td>LEATHER BIKER JACKET</td>\n",
       "      <td>Jacket with lapel collar and snap button detai...</td>\n",
       "      <td>169.0</td>\n",
       "      <td>USD</td>\n",
       "      <td>2024-02-19T08:50:13.210501</td>\n",
       "      <td>jackets</td>\n",
       "      <td>MAN</td>\n",
       "    </tr>\n",
       "  </tbody>\n",
       "</table>\n",
       "</div>"
      ],
      "text/plain": [
       "   Product ID Product Position Promotion Product Category Seasonal  \\\n",
       "0      188771            Aisle        No         Clothing       No   \n",
       "1      180176          End-cap       Yes         Clothing      Yes   \n",
       "2      112917            Aisle       Yes         Clothing      Yes   \n",
       "3      192936          End-cap        No         Clothing      Yes   \n",
       "4      182157            Aisle        No         Clothing       No   \n",
       "5      141861            Aisle       Yes         Clothing      Yes   \n",
       "6      137121            Aisle        No         Clothing      Yes   \n",
       "7      113143            Aisle       Yes         Clothing      Yes   \n",
       "8      140028            Aisle       Yes         Clothing      Yes   \n",
       "9      134693            Aisle       Yes         Clothing       No   \n",
       "\n",
       "   Sales Volume brand                                                url  \\\n",
       "0           654  Zara  https://www.zara.com/us/en/tuxedo-jacket-p0889...   \n",
       "1          2220  Zara  https://www.zara.com/us/en/slim-fit-suit-jacke...   \n",
       "2          1568  Zara  https://www.zara.com/us/en/stretch-suit-jacket...   \n",
       "3          2942  Zara  https://www.zara.com/us/en/double-faced-jacket...   \n",
       "4          2421  Zara  https://www.zara.com/us/en/suit-jacket-in-100-...   \n",
       "5          1916  Zara  https://www.zara.com/us/en/100-wool-suit-jacke...   \n",
       "6           656  Zara  https://www.zara.com/us/en/100-feather-fill-pu...   \n",
       "7          2663  Zara  https://www.zara.com/us/en/herringbone-texture...   \n",
       "8          1260  Zara  https://www.zara.com/us/en/oversized-cropped-j...   \n",
       "9          2124  Zara  https://www.zara.com/us/en/leather-biker-jacke...   \n",
       "\n",
       "                sku                                      name  \\\n",
       "0  324052738-800-46                             TUXEDO JACKET   \n",
       "1  335342680-800-44                      SLIM FIT SUIT JACKET   \n",
       "2  328303236-420-44                       STRETCH SUIT JACKET   \n",
       "3   312368260-800-2                       DOUBLE FACED JACKET   \n",
       "4  322972485-431-46                 SUIT JACKET IN 100% LINEN   \n",
       "5  313854165-401-46                     100% WOOL SUIT JACKET   \n",
       "6   312372602-800-2           100% FEATHER FILL PUFFER JACKET   \n",
       "7   316207900-710-2               HERRINGBONE TEXTURED JACKET   \n",
       "8   329186122-800-2  OVERSIZED CROPPED JACKET LIMITED EDITION   \n",
       "9   311297791-800-2                      LEATHER BIKER JACKET   \n",
       "\n",
       "                                         description  price currency  \\\n",
       "0  Straight fit blazer. Pointed lapel collar and ...  169.0      USD   \n",
       "1  Slim fit jacket. Notched lapel collar. Long sl...  129.0      USD   \n",
       "2  Slim fit jacket made of viscose blend fabric. ...  129.0      USD   \n",
       "3  Jacket made of faux leather faux shearling wit...  139.0      USD   \n",
       "4  Straight fit blazer made of linen. Notched lap...  159.0      USD   \n",
       "5  Jacket made of Italian wool. Pointed lapel col...  169.0      USD   \n",
       "6  Puffer jacket made of shiny finish technical f...  169.0      USD   \n",
       "7  Jacket made of wool blend fabric. Lapel collar...  129.0      USD   \n",
       "8  Oversized cropped jacket. Notched lapel collar...  159.0      USD   \n",
       "9  Jacket with lapel collar and snap button detai...  169.0      USD   \n",
       "\n",
       "                   scraped_at    terms section  \n",
       "0  2024-02-19T08:50:06.590930  jackets     MAN  \n",
       "1  2024-02-19T08:50:07.301419  jackets     MAN  \n",
       "2  2024-02-19T08:50:07.882922  jackets     MAN  \n",
       "3  2024-02-19T08:50:08.453847  jackets     MAN  \n",
       "4  2024-02-19T08:50:10.200777  jackets     MAN  \n",
       "5  2024-02-19T08:50:10.880741  jackets     MAN  \n",
       "6  2024-02-19T08:50:11.380061  jackets     MAN  \n",
       "7  2024-02-19T08:50:12.011296  jackets     MAN  \n",
       "8  2024-02-19T08:50:12.510507  jackets     MAN  \n",
       "9  2024-02-19T08:50:13.210501  jackets     MAN  "
      ]
     },
     "execution_count": 86,
     "metadata": {},
     "output_type": "execute_result"
    }
   ],
   "source": [
    "data = pd.read_sql(query,conn)\n",
    "data"
   ]
  },
  {
   "cell_type": "code",
   "execution_count": 17,
   "id": "72c3eea9-759e-4606-97bd-31c38f70196a",
   "metadata": {},
   "outputs": [
    {
     "data": {
      "text/plain": [
       "Product ID          0\n",
       "Product Position    0\n",
       "Promotion           0\n",
       "Product Category    0\n",
       "Seasonal            0\n",
       "Sales Volume        0\n",
       "brand               0\n",
       "url                 0\n",
       "sku                 0\n",
       "name                0\n",
       "description         0\n",
       "price               0\n",
       "currency            0\n",
       "scraped_at          0\n",
       "terms               0\n",
       "section             0\n",
       "dtype: int64"
      ]
     },
     "execution_count": 17,
     "metadata": {},
     "output_type": "execute_result"
    }
   ],
   "source": [
    "data.isnull().sum()"
   ]
  },
  {
   "cell_type": "code",
   "execution_count": 21,
   "id": "655b5713-1a01-4a06-a8d5-c026014fc300",
   "metadata": {},
   "outputs": [
    {
     "name": "stdout",
     "output_type": "stream",
     "text": [
      "<class 'pandas.core.frame.DataFrame'>\n",
      "RangeIndex: 252 entries, 0 to 251\n",
      "Data columns (total 16 columns):\n",
      " #   Column            Non-Null Count  Dtype  \n",
      "---  ------            --------------  -----  \n",
      " 0   Product ID        252 non-null    int64  \n",
      " 1   Product Position  252 non-null    object \n",
      " 2   Promotion         252 non-null    object \n",
      " 3   Product Category  252 non-null    object \n",
      " 4   Seasonal          252 non-null    object \n",
      " 5   Sales Volume      252 non-null    int64  \n",
      " 6   brand             252 non-null    object \n",
      " 7   url               252 non-null    object \n",
      " 8   sku               252 non-null    object \n",
      " 9   name              252 non-null    object \n",
      " 10  description       252 non-null    object \n",
      " 11  price             252 non-null    float64\n",
      " 12  currency          252 non-null    object \n",
      " 13  scraped_at        252 non-null    object \n",
      " 14  terms             252 non-null    object \n",
      " 15  section           252 non-null    object \n",
      "dtypes: float64(1), int64(2), object(13)\n",
      "memory usage: 31.6+ KB\n"
     ]
    }
   ],
   "source": [
    "data.info()"
   ]
  },
  {
   "cell_type": "code",
   "execution_count": 23,
   "id": "74886997-ffce-452f-9d62-f6672824decc",
   "metadata": {},
   "outputs": [
    {
     "data": {
      "text/html": [
       "<div>\n",
       "<style scoped>\n",
       "    .dataframe tbody tr th:only-of-type {\n",
       "        vertical-align: middle;\n",
       "    }\n",
       "\n",
       "    .dataframe tbody tr th {\n",
       "        vertical-align: top;\n",
       "    }\n",
       "\n",
       "    .dataframe thead th {\n",
       "        text-align: right;\n",
       "    }\n",
       "</style>\n",
       "<table border=\"1\" class=\"dataframe\">\n",
       "  <thead>\n",
       "    <tr style=\"text-align: right;\">\n",
       "      <th></th>\n",
       "      <th>Product ID</th>\n",
       "      <th>Sales Volume</th>\n",
       "      <th>price</th>\n",
       "    </tr>\n",
       "  </thead>\n",
       "  <tbody>\n",
       "    <tr>\n",
       "      <th>count</th>\n",
       "      <td>252.000000</td>\n",
       "      <td>252.000000</td>\n",
       "      <td>252.000000</td>\n",
       "    </tr>\n",
       "    <tr>\n",
       "      <th>mean</th>\n",
       "      <td>153370.503968</td>\n",
       "      <td>1823.702381</td>\n",
       "      <td>86.252540</td>\n",
       "    </tr>\n",
       "    <tr>\n",
       "      <th>std</th>\n",
       "      <td>26160.444549</td>\n",
       "      <td>697.703748</td>\n",
       "      <td>52.083205</td>\n",
       "    </tr>\n",
       "    <tr>\n",
       "      <th>min</th>\n",
       "      <td>110075.000000</td>\n",
       "      <td>529.000000</td>\n",
       "      <td>7.990000</td>\n",
       "    </tr>\n",
       "    <tr>\n",
       "      <th>25%</th>\n",
       "      <td>131053.750000</td>\n",
       "      <td>1243.000000</td>\n",
       "      <td>49.900000</td>\n",
       "    </tr>\n",
       "    <tr>\n",
       "      <th>50%</th>\n",
       "      <td>151681.500000</td>\n",
       "      <td>1839.500000</td>\n",
       "      <td>79.900000</td>\n",
       "    </tr>\n",
       "    <tr>\n",
       "      <th>75%</th>\n",
       "      <td>175669.750000</td>\n",
       "      <td>2398.750000</td>\n",
       "      <td>109.000000</td>\n",
       "    </tr>\n",
       "    <tr>\n",
       "      <th>max</th>\n",
       "      <td>199631.000000</td>\n",
       "      <td>2989.000000</td>\n",
       "      <td>439.000000</td>\n",
       "    </tr>\n",
       "  </tbody>\n",
       "</table>\n",
       "</div>"
      ],
      "text/plain": [
       "          Product ID  Sales Volume       price\n",
       "count     252.000000    252.000000  252.000000\n",
       "mean   153370.503968   1823.702381   86.252540\n",
       "std     26160.444549    697.703748   52.083205\n",
       "min    110075.000000    529.000000    7.990000\n",
       "25%    131053.750000   1243.000000   49.900000\n",
       "50%    151681.500000   1839.500000   79.900000\n",
       "75%    175669.750000   2398.750000  109.000000\n",
       "max    199631.000000   2989.000000  439.000000"
      ]
     },
     "execution_count": 23,
     "metadata": {},
     "output_type": "execute_result"
    }
   ],
   "source": [
    "data.describe()"
   ]
  },
  {
   "cell_type": "code",
   "execution_count": 25,
   "id": "b9484046-1ac3-44b7-81b3-ca1147735de0",
   "metadata": {},
   "outputs": [
    {
     "data": {
      "text/plain": [
       "Index(['Product ID', 'Product Position', 'Promotion', 'Product Category',\n",
       "       'Seasonal', 'Sales Volume', 'brand', 'url', 'sku', 'name',\n",
       "       'description', 'price', 'currency', 'scraped_at', 'terms', 'section'],\n",
       "      dtype='object')"
      ]
     },
     "execution_count": 25,
     "metadata": {},
     "output_type": "execute_result"
    }
   ],
   "source": [
    "data.columns"
   ]
  },
  {
   "cell_type": "code",
   "execution_count": 27,
   "id": "3c7aadec-4558-4e66-b19b-c67e18175377",
   "metadata": {},
   "outputs": [],
   "source": [
    "cur = conn.cursor()"
   ]
  },
  {
   "cell_type": "markdown",
   "id": "0a9a7976-e00a-4984-86c1-c99dca99b651",
   "metadata": {},
   "source": [
    "# What is the average sales volume for products with promotions compared to those without?"
   ]
  },
  {
   "cell_type": "code",
   "execution_count": 31,
   "id": "e3dbf7c5-7328-4847-a433-a5499644095c",
   "metadata": {},
   "outputs": [
    {
     "data": {
      "text/plain": [
       "(('No', Decimal('1820.5455')), ('Yes', Decimal('1827.1750')))"
      ]
     },
     "execution_count": 31,
     "metadata": {},
     "output_type": "execute_result"
    }
   ],
   "source": [
    "query = \"\"\" SELECT Promotion, AVG(`Sales Volume`) AS avg_sales_volume FROM clothes GROUP BY Promotion;\"\"\"\n",
    "cur.execute(query)\n",
    "data = cur.fetchall()\n",
    "\n",
    "data"
   ]
  },
  {
   "cell_type": "markdown",
   "id": "48271f8c-a416-4b42-97b0-cc6b71100e25",
   "metadata": {},
   "source": [
    "# Which product categories have the highest and lowest sales volumes?"
   ]
  },
  {
   "cell_type": "code",
   "execution_count": 99,
   "id": "086dbc33-4cb8-4d13-9dde-3acf6b1d1a20",
   "metadata": {},
   "outputs": [
    {
     "data": {
      "text/plain": [
       "(('Clothing', Decimal('459573')),)"
      ]
     },
     "execution_count": 99,
     "metadata": {},
     "output_type": "execute_result"
    }
   ],
   "source": [
    "query = \"\"\" select `Product Category`, sum(`Sales Volume`) as total_sales from clothes group by `Product Category` order by total_sales desc;\"\"\"\n",
    "cur.execute(query)\n",
    "data = cur.fetchall()\n",
    "data"
   ]
  },
  {
   "cell_type": "markdown",
   "id": "0fc2f698-cc63-487b-91d7-e5044e7bff7b",
   "metadata": {},
   "source": [
    "# Identify the top 5 most expensive products for each category."
   ]
  },
  {
   "cell_type": "code",
   "execution_count": 48,
   "id": "fe2edcad-d31e-4055-813b-ad9d025eaf9b",
   "metadata": {},
   "outputs": [
    {
     "data": {
      "text/plain": [
       "(('Clothing', 'CROPPED LEATHER JACKET', 439.0),\n",
       " ('Clothing', 'SUEDE JACKET', 349.0),\n",
       " ('Clothing', 'LEATHER JACKET', 299.0),\n",
       " ('Clothing', 'VINTAGE EFFECT LEATHER BOMBER JACKET', 299.0),\n",
       " ('Clothing', 'WOOL BLEND TEXTURED JACKET', 189.0))"
      ]
     },
     "execution_count": 48,
     "metadata": {},
     "output_type": "execute_result"
    }
   ],
   "source": [
    "query = \"\"\" WITH RankedProducts AS (SELECT `Product Category` AS category,`name`,`price`,ROW_NUMBER() OVER (PARTITION BY `Product Category` ORDER BY `price` DESC) AS gu\n",
    "    FROM `clothes`\n",
    ")\n",
    "SELECT category,`name`,`price`FROM RankedProducts WHERE gu <= 5;\"\"\"\n",
    "cur.execute(query)\n",
    "data = cur.fetchall()\n",
    "data\n",
    "\n"
   ]
  },
  {
   "cell_type": "markdown",
   "id": "4777b88f-b486-416e-8ea1-6ff1631044da",
   "metadata": {},
   "source": [
    "# How many products are seasonal vs. non-seasonal, and what is their average price?"
   ]
  },
  {
   "cell_type": "code",
   "execution_count": 53,
   "id": "7ccfc2fb-8f50-4dde-9643-4e232845e62b",
   "metadata": {},
   "outputs": [
    {
     "data": {
      "text/plain": [
       "(('No', 124, 86.42290322580627), ('Yes', 128, 86.0874999999998))"
      ]
     },
     "execution_count": 53,
     "metadata": {},
     "output_type": "execute_result"
    }
   ],
   "source": [
    "query = \"\"\"select seasonal, COUNT(*) AS Product_Count, avg(price) from clothes group by seasonal;\"\"\"\n",
    "cur.execute(query)\n",
    "data = cur.fetchall()\n",
    "data"
   ]
  },
  {
   "cell_type": "markdown",
   "id": "1dcf14fb-3e14-44b2-9ae7-590d44f01828",
   "metadata": {},
   "source": [
    "# Retrieve all products in a specific section (e.g., \"MAN\") with a price above a certain threshold."
   ]
  },
  {
   "cell_type": "code",
   "execution_count": 83,
   "id": "9bca5c23-02be-44e9-979b-8146300f2324",
   "metadata": {},
   "outputs": [
    {
     "data": {
      "text/plain": [
       "((188771,\n",
       "  'Aisle',\n",
       "  'No',\n",
       "  'Clothing',\n",
       "  'No',\n",
       "  654,\n",
       "  'Zara',\n",
       "  'https://www.zara.com/us/en/tuxedo-jacket-p08896675.html',\n",
       "  '324052738-800-46',\n",
       "  'TUXEDO JACKET',\n",
       "  'Straight fit blazer. Pointed lapel collar and long sleeves with buttoned cuffs. Welt pockets at hip and interior pocket. Central back vent at hem. Front button closure.',\n",
       "  169.0,\n",
       "  'USD',\n",
       "  '2024-02-19T08:50:06.590930',\n",
       "  'jackets',\n",
       "  'MAN'),\n",
       " (180176,\n",
       "  'End-cap',\n",
       "  'Yes',\n",
       "  'Clothing',\n",
       "  'Yes',\n",
       "  2220,\n",
       "  'Zara',\n",
       "  'https://www.zara.com/us/en/slim-fit-suit-jacket-p01564520.html',\n",
       "  '335342680-800-44',\n",
       "  'SLIM FIT SUIT JACKET',\n",
       "  'Slim fit jacket. Notched lapel collar. Long sleeves with buttoned cuffs. Welt pocket at chest and flap pockets at hip. Interior pocket. Back vents. Front button closure.',\n",
       "  129.0,\n",
       "  'USD',\n",
       "  '2024-02-19T08:50:07.301419',\n",
       "  'jackets',\n",
       "  'MAN'),\n",
       " (112917,\n",
       "  'Aisle',\n",
       "  'Yes',\n",
       "  'Clothing',\n",
       "  'Yes',\n",
       "  1568,\n",
       "  'Zara',\n",
       "  'https://www.zara.com/us/en/stretch-suit-jacket-p01564300.html',\n",
       "  '328303236-420-44',\n",
       "  'STRETCH SUIT JACKET',\n",
       "  'Slim fit jacket made of viscose blend fabric. Notched lapel collar. Long sleeves with buttoned cuffs. Welt pocket at chest and flap pockets at hip. Interior pocket. Back vents. Front button closure.',\n",
       "  129.0,\n",
       "  'USD',\n",
       "  '2024-02-19T08:50:07.882922',\n",
       "  'jackets',\n",
       "  'MAN'),\n",
       " (192936,\n",
       "  'End-cap',\n",
       "  'No',\n",
       "  'Clothing',\n",
       "  'Yes',\n",
       "  2942,\n",
       "  'Zara',\n",
       "  'https://www.zara.com/us/en/double-faced-jacket-p08281477.html',\n",
       "  '312368260-800-2',\n",
       "  'DOUBLE FACED JACKET',\n",
       "  'Jacket made of faux leather faux shearling with fleece interior. Tabbed lapel collar. Long sleeves. Zip pockets at hip. Front zip closure.',\n",
       "  139.0,\n",
       "  'USD',\n",
       "  '2024-02-19T08:50:08.453847',\n",
       "  'jackets',\n",
       "  'MAN'),\n",
       " (182157,\n",
       "  'Aisle',\n",
       "  'No',\n",
       "  'Clothing',\n",
       "  'No',\n",
       "  2421,\n",
       "  'Zara',\n",
       "  'https://www.zara.com/us/en/suit-jacket-in-100-linen-p04307408.html',\n",
       "  '322972485-431-46',\n",
       "  'SUIT JACKET IN 100% LINEN',\n",
       "  'Straight fit blazer made of linen. Notched lapel collar and long sleeves with buttoned cuffs. Welt pocket at chest and flap pockets at hip. Interior pocket. Back vents. Front button closure.',\n",
       "  159.0,\n",
       "  'USD',\n",
       "  '2024-02-19T08:50:10.200777',\n",
       "  'jackets',\n",
       "  'MAN'),\n",
       " (141861,\n",
       "  'Aisle',\n",
       "  'Yes',\n",
       "  'Clothing',\n",
       "  'Yes',\n",
       "  1916,\n",
       "  'Zara',\n",
       "  'https://www.zara.com/us/en/100-wool-suit-jacket-p05955218.html',\n",
       "  '313854165-401-46',\n",
       "  '100% WOOL SUIT JACKET',\n",
       "  'Jacket made of Italian wool. Pointed lapel collar and long sleeves with buttoned cuffs. Welt pocket at chest and flap pockets at hip. Interior pocket. Back vents. Front button closure.',\n",
       "  169.0,\n",
       "  'USD',\n",
       "  '2024-02-19T08:50:10.880741',\n",
       "  'jackets',\n",
       "  'MAN'),\n",
       " (137121,\n",
       "  'Aisle',\n",
       "  'No',\n",
       "  'Clothing',\n",
       "  'Yes',\n",
       "  656,\n",
       "  'Zara',\n",
       "  'https://www.zara.com/us/en/100-feather-fill-puffer-jacket-p04302305.html',\n",
       "  '312372602-800-2',\n",
       "  '100% FEATHER FILL PUFFER JACKET',\n",
       "  'Puffer jacket made of shiny finish technical fabric. Fill is a blend of 80% down and 20% feathers. High collar with adjustable hood and long sleeves with elastic cuffs. Welt pockets at hip and interior pocket. Adjustable hem with side elastics. Front zip closure.',\n",
       "  169.0,\n",
       "  'USD',\n",
       "  '2024-02-19T08:50:11.380061',\n",
       "  'jackets',\n",
       "  'MAN'),\n",
       " (113143,\n",
       "  'Aisle',\n",
       "  'Yes',\n",
       "  'Clothing',\n",
       "  'Yes',\n",
       "  2663,\n",
       "  'Zara',\n",
       "  'https://www.zara.com/us/en/herringbone-textured-jacket-p08491401.html',\n",
       "  '316207900-710-2',\n",
       "  'HERRINGBONE TEXTURED JACKET',\n",
       "  'Jacket made of wool blend fabric. Lapel collar and long sleeves. Welt pockets at hip. Front zip closure.',\n",
       "  129.0,\n",
       "  'USD',\n",
       "  '2024-02-19T08:50:12.011296',\n",
       "  'jackets',\n",
       "  'MAN'),\n",
       " (140028,\n",
       "  'Aisle',\n",
       "  'Yes',\n",
       "  'Clothing',\n",
       "  'Yes',\n",
       "  1260,\n",
       "  'Zara',\n",
       "  'https://www.zara.com/us/en/oversized-cropped-jacket-limited-edition-p04304672.html',\n",
       "  '329186122-800-2',\n",
       "  'OVERSIZED CROPPED JACKET LIMITED EDITION',\n",
       "  'Oversized cropped jacket. Notched lapel collar and long sleeves with buttoned cuffs. Flap pockets at waist ad interior pocket. Front button closure.',\n",
       "  159.0,\n",
       "  'USD',\n",
       "  '2024-02-19T08:50:12.510507',\n",
       "  'jackets',\n",
       "  'MAN'),\n",
       " (134693,\n",
       "  'Aisle',\n",
       "  'Yes',\n",
       "  'Clothing',\n",
       "  'No',\n",
       "  2124,\n",
       "  'Zara',\n",
       "  'https://www.zara.com/us/en/leather-biker-jacket-p05833412.html',\n",
       "  '311297791-800-2',\n",
       "  'LEATHER BIKER JACKET',\n",
       "  'Jacket with lapel collar and snap button details. Long sleeves with zip cuffs. Front zip pockets and interior pocket. Asymmetric front closure with metal zipper.',\n",
       "  169.0,\n",
       "  'USD',\n",
       "  '2024-02-19T08:50:13.210501',\n",
       "  'jackets',\n",
       "  'MAN'))"
      ]
     },
     "execution_count": 83,
     "metadata": {},
     "output_type": "execute_result"
    }
   ],
   "source": [
    "query = \"\"\"select * from clothes where section = \"man\" and price >100 limit 10;\"\"\"\n",
    "cur.execute(query)\n",
    "data = cur.fetchall()\n",
    "data"
   ]
  },
  {
   "cell_type": "markdown",
   "id": "abb55efa-1f7c-40c4-b91b-27f8da57a86b",
   "metadata": {},
   "source": [
    "# Find products where the description contains specific keywords like \"jacket.\""
   ]
  },
  {
   "cell_type": "code",
   "execution_count": 263,
   "id": "00e419f6-e8c3-4c9f-82e7-28ff8535dca7",
   "metadata": {},
   "outputs": [
    {
     "data": {
      "text/plain": [
       "((185102,\n",
       "  'Aisle',\n",
       "  'No',\n",
       "  'Clothing',\n",
       "  'No',\n",
       "  2823,\n",
       "  'Zara',\n",
       "  'https://www.zara.com/us/en/basic-puffer-jacket-p06985450.html',\n",
       "  '272145190-250-2',\n",
       "  'BASIC PUFFER JACKET',\n",
       "  'Puffer jacket made of tear-resistant ripstop fabric. High collar and adjustable long sleeves with adhesive straps. Welt pockets at hip. Adjustable hem with side elastics. Front zip closure.',\n",
       "  19.99,\n",
       "  'USD',\n",
       "  '2024-02-19T08:50:05.654618',\n",
       "  'jackets',\n",
       "  'MAN'),\n",
       " (180176,\n",
       "  'End-cap',\n",
       "  'Yes',\n",
       "  'Clothing',\n",
       "  'Yes',\n",
       "  2220,\n",
       "  'Zara',\n",
       "  'https://www.zara.com/us/en/slim-fit-suit-jacket-p01564520.html',\n",
       "  '335342680-800-44',\n",
       "  'SLIM FIT SUIT JACKET',\n",
       "  'Slim fit jacket. Notched lapel collar. Long sleeves with buttoned cuffs. Welt pocket at chest and flap pockets at hip. Interior pocket. Back vents. Front button closure.',\n",
       "  129.0,\n",
       "  'USD',\n",
       "  '2024-02-19T08:50:07.301419',\n",
       "  'jackets',\n",
       "  'MAN'),\n",
       " (112917,\n",
       "  'Aisle',\n",
       "  'Yes',\n",
       "  'Clothing',\n",
       "  'Yes',\n",
       "  1568,\n",
       "  'Zara',\n",
       "  'https://www.zara.com/us/en/stretch-suit-jacket-p01564300.html',\n",
       "  '328303236-420-44',\n",
       "  'STRETCH SUIT JACKET',\n",
       "  'Slim fit jacket made of viscose blend fabric. Notched lapel collar. Long sleeves with buttoned cuffs. Welt pocket at chest and flap pockets at hip. Interior pocket. Back vents. Front button closure.',\n",
       "  129.0,\n",
       "  'USD',\n",
       "  '2024-02-19T08:50:07.882922',\n",
       "  'jackets',\n",
       "  'MAN'),\n",
       " (192936,\n",
       "  'End-cap',\n",
       "  'No',\n",
       "  'Clothing',\n",
       "  'Yes',\n",
       "  2942,\n",
       "  'Zara',\n",
       "  'https://www.zara.com/us/en/double-faced-jacket-p08281477.html',\n",
       "  '312368260-800-2',\n",
       "  'DOUBLE FACED JACKET',\n",
       "  'Jacket made of faux leather faux shearling with fleece interior. Tabbed lapel collar. Long sleeves. Zip pockets at hip. Front zip closure.',\n",
       "  139.0,\n",
       "  'USD',\n",
       "  '2024-02-19T08:50:08.453847',\n",
       "  'jackets',\n",
       "  'MAN'),\n",
       " (117590,\n",
       "  'End-cap',\n",
       "  'No',\n",
       "  'Clothing',\n",
       "  'No',\n",
       "  2968,\n",
       "  'Zara',\n",
       "  'https://www.zara.com/us/en/contrasting-collar-jacket-p06987331.html',\n",
       "  '320298385-807-2',\n",
       "  'CONTRASTING COLLAR JACKET',\n",
       "  'Relaxed fit jacket. Contrasting lapel collar and long sleeves with buttoned cuffs. Front pouch pockets. Interior pocket. Washed effect. Front zip closure.',\n",
       "  79.9,\n",
       "  'USD',\n",
       "  '2024-02-19T08:50:09.140497',\n",
       "  'jackets',\n",
       "  'MAN'),\n",
       " (189118,\n",
       "  'Front of Store',\n",
       "  'Yes',\n",
       "  'Clothing',\n",
       "  'Yes',\n",
       "  952,\n",
       "  'Zara',\n",
       "  'https://www.zara.com/us/en/faux-leather-puffer-jacket-p08281420.html',\n",
       "  '278112470-800-2',\n",
       "  'FAUX LEATHER PUFFER JACKET',\n",
       "  'Faux leather puffer jacket. High collar and long sleeves with ribbed interior cuffs. Welt pockets at hip. Interior pocket. Adjustable hem with side elastics. Front zip closure.',\n",
       "  69.99,\n",
       "  'USD',\n",
       "  '2024-02-19T08:50:09.688951',\n",
       "  'jackets',\n",
       "  'MAN'),\n",
       " (141861,\n",
       "  'Aisle',\n",
       "  'Yes',\n",
       "  'Clothing',\n",
       "  'Yes',\n",
       "  1916,\n",
       "  'Zara',\n",
       "  'https://www.zara.com/us/en/100-wool-suit-jacket-p05955218.html',\n",
       "  '313854165-401-46',\n",
       "  '100% WOOL SUIT JACKET',\n",
       "  'Jacket made of Italian wool. Pointed lapel collar and long sleeves with buttoned cuffs. Welt pocket at chest and flap pockets at hip. Interior pocket. Back vents. Front button closure.',\n",
       "  169.0,\n",
       "  'USD',\n",
       "  '2024-02-19T08:50:10.880741',\n",
       "  'jackets',\n",
       "  'MAN'),\n",
       " (137121,\n",
       "  'Aisle',\n",
       "  'No',\n",
       "  'Clothing',\n",
       "  'Yes',\n",
       "  656,\n",
       "  'Zara',\n",
       "  'https://www.zara.com/us/en/100-feather-fill-puffer-jacket-p04302305.html',\n",
       "  '312372602-800-2',\n",
       "  '100% FEATHER FILL PUFFER JACKET',\n",
       "  'Puffer jacket made of shiny finish technical fabric. Fill is a blend of 80% down and 20% feathers. High collar with adjustable hood and long sleeves with elastic cuffs. Welt pockets at hip and interior pocket. Adjustable hem with side elastics. Front zip closure.',\n",
       "  169.0,\n",
       "  'USD',\n",
       "  '2024-02-19T08:50:11.380061',\n",
       "  'jackets',\n",
       "  'MAN'),\n",
       " (113143,\n",
       "  'Aisle',\n",
       "  'Yes',\n",
       "  'Clothing',\n",
       "  'Yes',\n",
       "  2663,\n",
       "  'Zara',\n",
       "  'https://www.zara.com/us/en/herringbone-textured-jacket-p08491401.html',\n",
       "  '316207900-710-2',\n",
       "  'HERRINGBONE TEXTURED JACKET',\n",
       "  'Jacket made of wool blend fabric. Lapel collar and long sleeves. Welt pockets at hip. Front zip closure.',\n",
       "  129.0,\n",
       "  'USD',\n",
       "  '2024-02-19T08:50:12.011296',\n",
       "  'jackets',\n",
       "  'MAN'),\n",
       " (140028,\n",
       "  'Aisle',\n",
       "  'Yes',\n",
       "  'Clothing',\n",
       "  'Yes',\n",
       "  1260,\n",
       "  'Zara',\n",
       "  'https://www.zara.com/us/en/oversized-cropped-jacket-limited-edition-p04304672.html',\n",
       "  '329186122-800-2',\n",
       "  'OVERSIZED CROPPED JACKET LIMITED EDITION',\n",
       "  'Oversized cropped jacket. Notched lapel collar and long sleeves with buttoned cuffs. Flap pockets at waist ad interior pocket. Front button closure.',\n",
       "  159.0,\n",
       "  'USD',\n",
       "  '2024-02-19T08:50:12.510507',\n",
       "  'jackets',\n",
       "  'MAN'))"
      ]
     },
     "execution_count": 263,
     "metadata": {},
     "output_type": "execute_result"
    }
   ],
   "source": [
    "query = \"\"\"select * from clothes where description like \"%jacket%\" limit 10;\"\"\"\n",
    "cur.execute(query)\n",
    "data = cur.fetchall()\n",
    "data"
   ]
  },
  {
   "cell_type": "markdown",
   "id": "826ed71d-0f29-4858-bc29-f0a849e03278",
   "metadata": {},
   "source": [
    "# Calculate total sales volume by product category and position (e.g., Aisle vs. End-cap)."
   ]
  },
  {
   "cell_type": "code",
   "execution_count": 97,
   "id": "38b5e28f-cfd8-4b4c-a249-97213cb3488a",
   "metadata": {},
   "outputs": [
    {
     "data": {
      "text/plain": [
       "(('Clothing', 'Aisle', Decimal('177396')),\n",
       " ('Clothing', 'End-cap', Decimal('152930')),\n",
       " ('Clothing', 'Front of Store', Decimal('129247')))"
      ]
     },
     "execution_count": 97,
     "metadata": {},
     "output_type": "execute_result"
    }
   ],
   "source": [
    "query = \"\"\"select `Product Category` AS category,`Product Position` AS position,sum(`Sales Volume`) AS total_sales_volume from clothes group by `Product Category`,`Product Position`;\n",
    "\"\"\"\n",
    "cur.execute(query)\n",
    "data = cur.fetchall()\n",
    "data"
   ]
  },
  {
   "cell_type": "markdown",
   "id": "645b0d0c-8c9f-4cff-9f98-b2024008f33c",
   "metadata": {},
   "source": [
    "# Summarize the total revenue generated per category.\n"
   ]
  },
  {
   "cell_type": "code",
   "execution_count": 102,
   "id": "ef91cef6-a241-4872-9e35-f002e75df42c",
   "metadata": {},
   "outputs": [
    {
     "data": {
      "text/plain": [
       "(('Clothing', 38988476.48),)"
      ]
     },
     "execution_count": 102,
     "metadata": {},
     "output_type": "execute_result"
    }
   ],
   "source": [
    "query = \"\"\"select `product category`, sum(price * `sales volume`) from clothes group by `product category`;\"\"\"\n",
    "cur.execute(query)\n",
    "data = cur.fetchall()\n",
    "data"
   ]
  },
  {
   "cell_type": "code",
   "execution_count": 108,
   "id": "adb1a6ae-3713-46b8-aaf6-0eaf1d9185f4",
   "metadata": {},
   "outputs": [],
   "source": [
    "data = data[0]  # If your tuple contains a DataFrame as the first element\n"
   ]
  },
  {
   "cell_type": "code",
   "execution_count": 116,
   "id": "75676cb3-627e-411e-a28f-2bcec29d4402",
   "metadata": {},
   "outputs": [],
   "source": [
    "import pandas as pd\n"
   ]
  },
  {
   "cell_type": "code",
   "execution_count": 132,
   "id": "c02a3548-b97b-457f-8981-e468ddad3054",
   "metadata": {},
   "outputs": [
    {
     "data": {
      "text/html": [
       "<div>\n",
       "<style scoped>\n",
       "    .dataframe tbody tr th:only-of-type {\n",
       "        vertical-align: middle;\n",
       "    }\n",
       "\n",
       "    .dataframe tbody tr th {\n",
       "        vertical-align: top;\n",
       "    }\n",
       "\n",
       "    .dataframe thead th {\n",
       "        text-align: right;\n",
       "    }\n",
       "</style>\n",
       "<table border=\"1\" class=\"dataframe\">\n",
       "  <thead>\n",
       "    <tr style=\"text-align: right;\">\n",
       "      <th></th>\n",
       "      <th>Product ID;Product Position;Promotion;Product Category;Seasonal;Sales Volume;brand;url;sku;name;description;price;currency;scraped_at;terms;section</th>\n",
       "    </tr>\n",
       "  </thead>\n",
       "  <tbody>\n",
       "    <tr>\n",
       "      <th>0</th>\n",
       "      <td>185102;Aisle;No;Clothing;No;2823;Zara;https://...</td>\n",
       "    </tr>\n",
       "    <tr>\n",
       "      <th>1</th>\n",
       "      <td>188771;Aisle;No;Clothing;No;654;Zara;https://w...</td>\n",
       "    </tr>\n",
       "    <tr>\n",
       "      <th>2</th>\n",
       "      <td>180176;End-cap;Yes;Clothing;Yes;2220;Zara;http...</td>\n",
       "    </tr>\n",
       "    <tr>\n",
       "      <th>3</th>\n",
       "      <td>112917;Aisle;Yes;Clothing;Yes;1568;Zara;https:...</td>\n",
       "    </tr>\n",
       "    <tr>\n",
       "      <th>4</th>\n",
       "      <td>192936;End-cap;No;Clothing;Yes;2942;Zara;https...</td>\n",
       "    </tr>\n",
       "    <tr>\n",
       "      <th>...</th>\n",
       "      <td>...</td>\n",
       "    </tr>\n",
       "    <tr>\n",
       "      <th>247</th>\n",
       "      <td>159182;Front of Store;Yes;Clothing;No;1014;Zar...</td>\n",
       "    </tr>\n",
       "    <tr>\n",
       "      <th>248</th>\n",
       "      <td>199233;Aisle;Yes;Clothing;No;2222;Zara;https:/...</td>\n",
       "    </tr>\n",
       "    <tr>\n",
       "      <th>249</th>\n",
       "      <td>137044;Aisle;No;Clothing;Yes;2534;Zara;https:/...</td>\n",
       "    </tr>\n",
       "    <tr>\n",
       "      <th>250</th>\n",
       "      <td>154736;Front of Store;Yes;Clothing;Yes;1466;Za...</td>\n",
       "    </tr>\n",
       "    <tr>\n",
       "      <th>251</th>\n",
       "      <td>141434;Front of Store;No;Clothing;Yes;2870;Zar...</td>\n",
       "    </tr>\n",
       "  </tbody>\n",
       "</table>\n",
       "<p>252 rows × 1 columns</p>\n",
       "</div>"
      ],
      "text/plain": [
       "    Product ID;Product Position;Promotion;Product Category;Seasonal;Sales Volume;brand;url;sku;name;description;price;currency;scraped_at;terms;section\n",
       "0    185102;Aisle;No;Clothing;No;2823;Zara;https://...                                                                                                 \n",
       "1    188771;Aisle;No;Clothing;No;654;Zara;https://w...                                                                                                 \n",
       "2    180176;End-cap;Yes;Clothing;Yes;2220;Zara;http...                                                                                                 \n",
       "3    112917;Aisle;Yes;Clothing;Yes;1568;Zara;https:...                                                                                                 \n",
       "4    192936;End-cap;No;Clothing;Yes;2942;Zara;https...                                                                                                 \n",
       "..                                                 ...                                                                                                 \n",
       "247  159182;Front of Store;Yes;Clothing;No;1014;Zar...                                                                                                 \n",
       "248  199233;Aisle;Yes;Clothing;No;2222;Zara;https:/...                                                                                                 \n",
       "249  137044;Aisle;No;Clothing;Yes;2534;Zara;https:/...                                                                                                 \n",
       "250  154736;Front of Store;Yes;Clothing;Yes;1466;Za...                                                                                                 \n",
       "251  141434;Front of Store;No;Clothing;Yes;2870;Zar...                                                                                                 \n",
       "\n",
       "[252 rows x 1 columns]"
      ]
     },
     "execution_count": 132,
     "metadata": {},
     "output_type": "execute_result"
    }
   ],
   "source": [
    "data = pd.read_csv(\"C:/Users/AMAR/Downloads/zara.csv\")\n",
    "data"
   ]
  },
  {
   "cell_type": "code",
   "execution_count": 126,
   "id": "533ac570-8980-4ce5-a712-0918c502f5a4",
   "metadata": {},
   "outputs": [
    {
     "data": {
      "text/html": [
       "<div>\n",
       "<style scoped>\n",
       "    .dataframe tbody tr th:only-of-type {\n",
       "        vertical-align: middle;\n",
       "    }\n",
       "\n",
       "    .dataframe tbody tr th {\n",
       "        vertical-align: top;\n",
       "    }\n",
       "\n",
       "    .dataframe thead th {\n",
       "        text-align: right;\n",
       "    }\n",
       "</style>\n",
       "<table border=\"1\" class=\"dataframe\">\n",
       "  <thead>\n",
       "    <tr style=\"text-align: right;\">\n",
       "      <th></th>\n",
       "      <th>Product ID;Product Position;Promotion;Product Category;Seasonal;Sales Volume;brand;url;sku;name;description;price;currency;scraped_at;terms;section</th>\n",
       "    </tr>\n",
       "  </thead>\n",
       "  <tbody>\n",
       "    <tr>\n",
       "      <th>0</th>\n",
       "      <td>185102;Aisle;No;Clothing;No;2823;Zara;https://...</td>\n",
       "    </tr>\n",
       "    <tr>\n",
       "      <th>1</th>\n",
       "      <td>188771;Aisle;No;Clothing;No;654;Zara;https://w...</td>\n",
       "    </tr>\n",
       "    <tr>\n",
       "      <th>2</th>\n",
       "      <td>180176;End-cap;Yes;Clothing;Yes;2220;Zara;http...</td>\n",
       "    </tr>\n",
       "    <tr>\n",
       "      <th>3</th>\n",
       "      <td>112917;Aisle;Yes;Clothing;Yes;1568;Zara;https:...</td>\n",
       "    </tr>\n",
       "    <tr>\n",
       "      <th>4</th>\n",
       "      <td>192936;End-cap;No;Clothing;Yes;2942;Zara;https...</td>\n",
       "    </tr>\n",
       "  </tbody>\n",
       "</table>\n",
       "</div>"
      ],
      "text/plain": [
       "  Product ID;Product Position;Promotion;Product Category;Seasonal;Sales Volume;brand;url;sku;name;description;price;currency;scraped_at;terms;section\n",
       "0  185102;Aisle;No;Clothing;No;2823;Zara;https://...                                                                                                 \n",
       "1  188771;Aisle;No;Clothing;No;654;Zara;https://w...                                                                                                 \n",
       "2  180176;End-cap;Yes;Clothing;Yes;2220;Zara;http...                                                                                                 \n",
       "3  112917;Aisle;Yes;Clothing;Yes;1568;Zara;https:...                                                                                                 \n",
       "4  192936;End-cap;No;Clothing;Yes;2942;Zara;https...                                                                                                 "
      ]
     },
     "execution_count": 126,
     "metadata": {},
     "output_type": "execute_result"
    }
   ],
   "source": [
    "data.head()"
   ]
  },
  {
   "cell_type": "code",
   "execution_count": 144,
   "id": "27feb300-ad7c-4f9e-8700-216bfb78822a",
   "metadata": {},
   "outputs": [
    {
     "data": {
      "text/plain": [
       "Index(['Product ID;Product Position;Promotion;Product Category;Seasonal;Sales Volume;brand;url;sku;name;description;price;currency;scraped_at;terms;section'], dtype='object')"
      ]
     },
     "execution_count": 144,
     "metadata": {},
     "output_type": "execute_result"
    }
   ],
   "source": [
    "data.columns\n"
   ]
  },
  {
   "cell_type": "markdown",
   "id": "b0c9c312-d0b6-46d5-9ac3-72d8b57863e1",
   "metadata": {},
   "source": [
    "# Plot sales volume by product category or promotion status.\n",
    "# Visualize price distribution using histograms or boxplots. "
   ]
  },
  {
   "cell_type": "code",
   "execution_count": null,
   "id": "578fa400-4e8a-4d60-a45d-ea12e0cff0a1",
   "metadata": {},
   "outputs": [],
   "source": [
    " # Create a histogram to visualize the distribution of product prices?"
   ]
  },
  {
   "cell_type": "code",
   "execution_count": 230,
   "id": "b7b5f1b5-2399-4d0b-ac52-4f8e70a60cbd",
   "metadata": {},
   "outputs": [
    {
     "data": {
      "image/png": "[encoded data removed]",
      "text/plain": [
       "<Figure size 1000x600 with 1 Axes>"
      ]
     },
     "metadata": {},
     "output_type": "display_data"
    }
   ],
   "source": [
    "import pandas as pd\n",
    "import matplotlib.pyplot as plt\n",
    "\n",
    "# Load dataset\n",
    "data = pd.read_csv('C:/Users/AMAR/Downloads/zara.csv', sep=';')\n",
    "\n",
    "# Plot histogram\n",
    "plt.figure(figsize=(10, 6))\n",
    "plt.hist(data['price'], bins=30, color='blue', alpha=0.7)\n",
    "plt.title('Price Distribution of Products')\n",
    "plt.xlabel('Price (USD)')\n",
    "plt.ylabel('Frequency')\n",
    "plt.grid(axis='y')\n",
    "plt.show()"
   ]
  },
  {
   "cell_type": "code",
   "execution_count": 244,
   "id": "d0307a4b-1784-42cb-8a15-16979d75e14d",
   "metadata": {},
   "outputs": [
    {
     "data": {
      "image/png": "[encoded data removed]",
      "text/plain": [
       "<Figure size 1000x600 with 1 Axes>"
      ]
     },
     "metadata": {},
     "output_type": "display_data"
    }
   ],
   "source": [
    "# Count products by category\n",
    "category_counts = data['Product Category'].value_counts()\n",
    "\n",
    "# Plot bar chart\n",
    "plt.figure(figsize=(10, 6))\n",
    "category_counts.plot(kind='bar', color='orange')\n",
    "plt.title('Count of Products by Category')\n",
    "plt.xlabel('Product Category')\n",
    "plt.ylabel('Count')\n",
    "plt.xticks(rotation=10)\n",
    "plt.show()"
   ]
  },
  {
   "cell_type": "markdown",
   "id": "5b6d9fb4-44a4-4f0a-80a0-7c5c1d945613",
   "metadata": {},
   "source": [
    "# Create a bar chart to display the top 10 most expensive products. What are the categories of these products?"
   ]
  },
  {
   "cell_type": "code",
   "execution_count": 207,
   "id": "4c49084d-adf1-454e-bcfe-0a5c57de0deb",
   "metadata": {},
   "outputs": [
    {
     "data": {
      "image/png": "[encoded data removed]",
      "text/plain": [
       "<Figure size 1000x600 with 1 Axes>"
      ]
     },
     "metadata": {},
     "output_type": "display_data"
    }
   ],
   "source": [
    "# Get top 10 most expensive products\n",
    "top_10_expensive = data.nlargest(10, 'price')\n",
    "\n",
    "# Plot bar chart\n",
    "plt.figure(figsize=(10, 6))\n",
    "plt.barh(top_10_expensive['name'], top_10_expensive['price'], color='purple')\n",
    "plt.title('Top 10 Most Expensive Products')\n",
    "plt.xlabel('Price (USD)')\n",
    "plt.ylabel('Product Name')\n",
    "plt.show()"
   ]
  },
  {
   "cell_type": "markdown",
   "id": "0a0f6f4e-6062-41dc-baf0-9adb6909010e",
   "metadata": {},
   "source": [
    "# create a heatmap to visualize which locations have the most products available."
   ]
  },
  {
   "cell_type": "code",
   "execution_count": 209,
   "id": "978559a5-d65c-4a2f-8187-ada39e17504b",
   "metadata": {},
   "outputs": [
    {
     "data": {
      "image/png": "[encoded data removed]",
      "text/plain": [
       "<Figure size 1000x600 with 1 Axes>"
      ]
     },
     "metadata": {},
     "output_type": "display_data"
    }
   ],
   "source": [
    "# Count products by location\n",
    "location_counts = data['Product Position'].value_counts()\n",
    "\n",
    "# Plot heatmap (if you have a suitable dataset)\n",
    "plt.figure(figsize=(10, 6))\n",
    "plt.bar(location_counts.index, location_counts.values, color='green')\n",
    "plt.title('Product Count by Store Location')\n",
    "plt.xlabel('Store Location')\n",
    "plt.ylabel('Count')\n",
    "plt.xticks(rotation=45)\n",
    "plt.show()"
   ]
  },
  {
   "cell_type": "markdown",
   "id": "0a8e8fdc-fe4a-49df-87c2-e58cc2592bf0",
   "metadata": {},
   "source": [
    "# Plot sales volume by product category.¶\n"
   ]
  },
  {
   "cell_type": "code",
   "execution_count": 211,
   "id": "5af2e5c7-8176-41c8-8de3-ab1ebbc6c6c8",
   "metadata": {},
   "outputs": [
    {
     "data": {
      "image/png": "[encoded data removed]",
      "text/plain": [
       "<Figure size 1000x600 with 1 Axes>"
      ]
     },
     "metadata": {},
     "output_type": "display_data"
    }
   ],
   "source": [
    "import matplotlib.pyplot as plt\n",
    "\n",
    "# Group by product category and calculate sales volume\n",
    "sales_by_category = data.groupby('Product Category')['Sales Volume'].sum()\n",
    "\n",
    "# Plot bar chart\n",
    "plt.figure(figsize=(10, 6))\n",
    "sales_by_category.plot(kind='bar', color='blue')\n",
    "plt.title('Sales Volume by Product Category')\n",
    "plt.xlabel('Product Category')\n",
    "plt.ylabel('Sales Volume')\n",
    "plt.xticks(rotation=45)\n",
    "plt.show()"
   ]
  },
  {
   "cell_type": "markdown",
   "id": "76374ea5-133f-4b9d-b514-2af59f8570ef",
   "metadata": {},
   "source": [
    "# plot sales volume by promotion status"
   ]
  },
  {
   "cell_type": "code",
   "execution_count": 213,
   "id": "597df409-f808-4627-a962-32b89c8e9d90",
   "metadata": {},
   "outputs": [
    {
     "data": {
      "image/png": "[encoded data removed]",
      "text/plain": [
       "<Figure size 1000x600 with 1 Axes>"
      ]
     },
     "metadata": {},
     "output_type": "display_data"
    }
   ],
   "source": [
    "# Group by promotion status and calculate sales volume\n",
    "sales_by_promotion = data.groupby('Promotion')['Sales Volume'].sum()\n",
    "\n",
    "# Plot bar chart\n",
    "plt.figure(figsize=(10, 6))\n",
    "sales_by_promotion.plot(kind='bar', color='green')\n",
    "plt.title('Sales Volume by Promotion Status')\n",
    "plt.xlabel('Promotion Status')\n",
    "plt.ylabel('Sales Volume')\n",
    "plt.xticks(rotation=45)\n",
    "plt.show()"
   ]
  },
  {
   "cell_type": "markdown",
   "id": "d4dc0236-748a-4252-b61f-08cfba7b693c",
   "metadata": {},
   "source": [
    "# Convert \"Price\" to numeric format and calculate revenue (Price × Sales Volume)"
   ]
  },
  {
   "cell_type": "code",
   "execution_count": 261,
   "id": "2770502d-f11e-4425-b4b4-41fd29f7cb4e",
   "metadata": {},
   "outputs": [
    {
     "name": "stdout",
     "output_type": "stream",
     "text": [
      "                                              name   price  Sales Volume  \\\n",
      "0                              BASIC PUFFER JACKET   19.99          2823   \n",
      "1                                    TUXEDO JACKET  169.00           654   \n",
      "2                             SLIM FIT SUIT JACKET  129.00          2220   \n",
      "3                              STRETCH SUIT JACKET  129.00          1568   \n",
      "4                              DOUBLE FACED JACKET  139.00          2942   \n",
      "..                                             ...     ...           ...   \n",
      "247  FAUX LEATHER OVERSIZED JACKET LIMITED EDITION  169.00          1014   \n",
      "248              CONTRASTING PATCHES BOMBER JACKET  159.00          2222   \n",
      "249                            PATCH BOMBER JACKET   12.99          2534   \n",
      "250          CROPPED BOMBER JACKET LIMITED EDITION   19.90          1466   \n",
      "251                     FAUX LEATHER PUFFER JACKET   39.90          2870   \n",
      "\n",
      "       revenue  \n",
      "0     56431.77  \n",
      "1    110526.00  \n",
      "2    286380.00  \n",
      "3    202272.00  \n",
      "4    408938.00  \n",
      "..         ...  \n",
      "247  171366.00  \n",
      "248  353298.00  \n",
      "249   32916.66  \n",
      "250   29173.40  \n",
      "251  114513.00  \n",
      "\n",
      "[252 rows x 4 columns]\n"
     ]
    },
    {
     "name": "stderr",
     "output_type": "stream",
     "text": [
      "<>:2: SyntaxWarning: invalid escape sequence '\\$'\n",
      "<>:2: SyntaxWarning: invalid escape sequence '\\$'\n",
      "C:\\Users\\AMAR\\AppData\\Local\\Temp\\ipykernel_22884\\1470624568.py:2: SyntaxWarning: invalid escape sequence '\\$'\n",
      "  data['price'] = data['price'].replace({'\\$': '', ',': ''}, regex=True).astype(float)\n"
     ]
    }
   ],
   "source": [
    "\n",
    "# Convert 'Price' to numeric format\n",
    "data['price'] = data['price'].replace({'\\$': '', ',': ''}, regex=True).astype(float)\n",
    "\n",
    "# Convert 'Sales Volume' to numeric format (if it's not already)\n",
    "data['Sales Volume'] = pd.to_numeric(data['Sales Volume'])\n",
    "\n",
    "# Calculate revenue\n",
    "data['revenue'] = data['price'] * data['Sales Volume']\n",
    "\n",
    "# Display the updated DataFrame with revenue\n",
    "print(data[['name', 'price', 'Sales Volume', 'revenue']])"
   ]
  },
  {
   "cell_type": "code",
   "execution_count": null,
   "id": "c7c4ce92-0d27-4095-9112-fd9ac7f4a653",
   "metadata": {},
   "outputs": [],
   "source": []
  }
 ],
 "metadata": {
  "kernelspec": {
   "display_name": "Python 3 (ipykernel)",
   "language": "python",
   "name": "python3"
  },
  "language_info": {
   "codemirror_mode": {
    "name": "ipython",
    "version": 3
   },
   "file_extension": ".py",
   "mimetype": "text/x-python",
   "name": "python",
   "nbconvert_exporter": "python",
   "pygments_lexer": "ipython3",
   "version": "3.12.7"
  }
 },
 "nbformat": 4,
 "nbformat_minor": 5
}
